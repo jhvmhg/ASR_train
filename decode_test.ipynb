{
 "cells": [
  {
   "cell_type": "markdown",
   "metadata": {},
   "source": [
    "## 1000.mdl测试"
   ]
  },
  {
   "cell_type": "code",
   "execution_count": 5,
   "metadata": {},
   "outputs": [
    {
     "name": "stdout",
     "output_type": "stream",
     "text": [
      "decode.sh --iter 1000 --nj 2 --stage 1 exp/chain/combine_data_exp/graph_4000_blm /home1/meichaoyang/Dataset/feats/aishell2/test exp/chain/result/aishell_little_lm_result1000_dir\n",
      "decode.sh: feature type is raw\n",
      "start computing cer!\n",
      "total: 270623, add: 3804, del: 688, err: 7313, cer: 4.3622%, ser: 19.68%, cer(exclude_add): 2.9565%\n",
      "Decoding done.\n"
     ]
    }
   ],
   "source": [
    "!cd chain && bash decode.sh --iter 1000 --nj 2 --stage 1 exp/chain/combine_data_exp/graph_4000_blm /home1/meichaoyang/Dataset/feats/aishell2/test exp/chain/result/aishell_little_lm_result1000_dir"
   ]
  },
  {
   "cell_type": "code",
   "execution_count": 6,
   "metadata": {},
   "outputs": [
    {
     "name": "stdout",
     "output_type": "stream",
     "text": [
      "decode.sh --iter 1000 --nj 2 --stage 1 exp/chain/combine_data_exp/graph_4000_blm /home1/meichaoyang/Dataset/Mandarin/feats exp/chain/result/ocean_blm_result1000_dir\n",
      "decode.sh: feature type is raw\n",
      "start computing cer!\n",
      "total: 87362, add: 207, del: 1833, err: 11430, cer: 15.4186%, ser: 64.76%, cer(exclude_add): 15.1817%\n",
      "Decoding done.\n"
     ]
    }
   ],
   "source": [
    "!cd chain && bash decode.sh --iter 1000 --nj 2 --stage 1 exp/chain/combine_data_exp/graph_4000_blm /home1/meichaoyang/Dataset/Mandarin/feats exp/chain/result/ocean_blm_result1000_dir"
   ]
  },
  {
   "cell_type": "code",
   "execution_count": 7,
   "metadata": {},
   "outputs": [
    {
     "name": "stdout",
     "output_type": "stream",
     "text": [
      "decode.sh --iter 1000 --nj 2 --stage 1 exp/chain/combine_data_exp/graph_4000_blm /home1/meichaoyang/Dataset/magic_tang/feat/test exp/chain/result/magic_little_lm_result1000_dir\n",
      "decode.sh: feature type is raw\n",
      "start computing cer!\n",
      "total: 239847, add: 1115, del: 3609, err: 19993, cer: 10.3053%, ser: 44.13%, cer(exclude_add): 9.8404%\n",
      "Decoding done.\n"
     ]
    }
   ],
   "source": [
    "!cd chain && bash decode.sh --iter 1000 --nj 2 --stage 1 exp/chain/combine_data_exp/graph_4000_blm /home1/meichaoyang/Dataset/magic_tang/feat/test exp/chain/result/magic_little_lm_result1000_dir"
   ]
  },
  {
   "cell_type": "markdown",
   "metadata": {},
   "source": [
    "## 10000.mdl测试"
   ]
  },
  {
   "cell_type": "code",
   "execution_count": 3,
   "metadata": {},
   "outputs": [
    {
     "name": "stdout",
     "output_type": "stream",
     "text": [
      "decode.sh --iter 10000 --nj 2 --stage 1 exp/chain/combine_data_exp/graph_4000_blm /home1/meichaoyang/Dataset/feats/aishell2/test exp/chain/result/aishell_little_lm_result10000_dir\n",
      "decode.sh: feature type is raw\n",
      "start computing cer!\n",
      "total: 270623, add: 3933, del: 549, err: 6448, cer: 4.0388%, ser: 18.29%, cer(exclude_add): 2.5855%\n",
      "Decoding done.\n"
     ]
    }
   ],
   "source": [
    "!cd chain && bash decode.sh --iter 10000 --nj 2 --stage 1 exp/chain/combine_data_exp/graph_4000_blm /home1/meichaoyang/Dataset/feats/aishell2/test exp/chain/result/aishell_little_lm_result10000_dir"
   ]
  },
  {
   "cell_type": "code",
   "execution_count": 2,
   "metadata": {},
   "outputs": [
    {
     "name": "stdout",
     "output_type": "stream",
     "text": [
      "decode.sh --iter 10000 --nj 2 --stage 1 exp/chain/combine_data_exp/graph_4000_blm /home1/meichaoyang/Dataset/Mandarin/feats exp/chain/result/ocean_blm_result10000_dir\n",
      "decode.sh: feature type is raw\n",
      "start computing cer!\n",
      "total: 87362, add: 212, del: 1567, err: 10110, cer: 13.6089%, ser: 61.05%, cer(exclude_add): 13.3662%\n",
      "Decoding done.\n"
     ]
    }
   ],
   "source": [
    "!cd chain && bash decode.sh --iter 10000 --nj 2 --stage 1 exp/chain/combine_data_exp/graph_4000_blm /home1/meichaoyang/Dataset/Mandarin/feats exp/chain/result/ocean_blm_result10000_dir"
   ]
  },
  {
   "cell_type": "code",
   "execution_count": 4,
   "metadata": {},
   "outputs": [
    {
     "name": "stdout",
     "output_type": "stream",
     "text": [
      "decode.sh --iter 10000 --nj 2 --stage 1 exp/chain/combine_data_exp/graph_4000_blm /home1/meichaoyang/Dataset/magic_tang/feat/test exp/chain/result/magic_little_lm_result10000_dir\n",
      "decode.sh: feature type is raw\n",
      "start computing cer!\n",
      "total: 239847, add: 976, del: 3193, err: 16488, cer: 8.6126%, ser: 40.22%, cer(exclude_add): 8.2056%\n",
      "Decoding done.\n"
     ]
    }
   ],
   "source": [
    "!cd chain && bash decode.sh --iter 10000 --nj 2 --stage 1 exp/chain/combine_data_exp/graph_4000_blm /home1/meichaoyang/Dataset/magic_tang/feat/test exp/chain/result/magic_little_lm_result10000_dir"
   ]
  },
  {
   "cell_type": "markdown",
   "metadata": {},
   "source": [
    "## 20000.mdl测试"
   ]
  },
  {
   "cell_type": "code",
   "execution_count": 8,
   "metadata": {},
   "outputs": [
    {
     "name": "stdout",
     "output_type": "stream",
     "text": [
      "decode.sh --iter 20000 --nj 2 --stage 1 exp/chain/combine_data_exp/graph_4000_blm /home1/meichaoyang/Dataset/feats/aishell2/test exp/chain/result/aishell_little_lm_result20000_dir\n",
      "decode.sh: feature type is raw\n",
      "start computing cer!\n",
      "total: 270623, add: 3907, del: 554, err: 6217, cer: 3.9457%, ser: 17.93%, cer(exclude_add): 2.5020%\n",
      "Decoding done.\n"
     ]
    }
   ],
   "source": [
    "!cd chain && bash decode.sh --iter 20000 --nj 2 --stage 1 exp/chain/combine_data_exp/graph_4000_blm /home1/meichaoyang/Dataset/feats/aishell2/test exp/chain/result/aishell_little_lm_result20000_dir"
   ]
  },
  {
   "cell_type": "code",
   "execution_count": 9,
   "metadata": {},
   "outputs": [
    {
     "name": "stdout",
     "output_type": "stream",
     "text": [
      "decode.sh --iter 20000 --nj 2 --stage 1 exp/chain/combine_data_exp/graph_4000_blm /home1/meichaoyang/Dataset/Mandarin/feats exp/chain/result/ocean_blm_result20000_dir\n",
      "decode.sh: feature type is raw\n",
      "start computing cer!\n",
      "total: 87362, add: 203, del: 1560, err: 9887, cer: 13.3353%, ser: 60.29%, cer(exclude_add): 13.1030%\n",
      "Decoding done.\n"
     ]
    }
   ],
   "source": [
    "!cd chain && bash decode.sh --iter 20000 --nj 2 --stage 1 exp/chain/combine_data_exp/graph_4000_blm /home1/meichaoyang/Dataset/Mandarin/feats exp/chain/result/ocean_blm_result20000_dir"
   ]
  },
  {
   "cell_type": "code",
   "execution_count": 10,
   "metadata": {},
   "outputs": [
    {
     "name": "stdout",
     "output_type": "stream",
     "text": [
      "decode.sh --iter 20000 --nj 2 --stage 1 exp/chain/combine_data_exp/graph_4000_blm /home1/meichaoyang/Dataset/magic_tang/feat/test exp/chain/result/magic_little_lm_result20000_dir\n",
      "decode.sh: feature type is raw\n",
      "start computing cer!\n",
      "total: 239847, add: 927, del: 3148, err: 15671, cer: 8.2327%, ser: 38.69%, cer(exclude_add): 7.8463%\n",
      "Decoding done.\n"
     ]
    }
   ],
   "source": [
    "!cd chain && bash decode.sh --iter 20000 --nj 2 --stage 1 exp/chain/combine_data_exp/graph_4000_blm /home1/meichaoyang/Dataset/magic_tang/feat/test exp/chain/result/magic_little_lm_result20000_dir"
   ]
  },
  {
   "cell_type": "code",
   "execution_count": null,
   "metadata": {},
   "outputs": [],
   "source": []
  },
  {
   "cell_type": "code",
   "execution_count": null,
   "metadata": {},
   "outputs": [],
   "source": []
  },
  {
   "cell_type": "code",
   "execution_count": null,
   "metadata": {},
   "outputs": [],
   "source": []
  },
  {
   "cell_type": "code",
   "execution_count": null,
   "metadata": {},
   "outputs": [],
   "source": []
  },
  {
   "cell_type": "code",
   "execution_count": null,
   "metadata": {},
   "outputs": [
    {
     "name": "stdout",
     "output_type": "stream",
     "text": [
      "decode.sh --iter 40800 --nj 2 --stage 1 exp/chain/combine_data_exp/graph_4000_blm /home1/meichaoyang/Dataset/magic_tang/feat/test exp/chain/result/magic_big_lm_result20000_dir\n",
      "decode.sh: feature type is raw\n"
     ]
    }
   ],
   "source": [
    "!cd chain && bash decode.sh --iter 40800 --nj 2 --stage 1 exp/chain/combine_data_exp/graph_4000_blm /home1/meichaoyang/Dataset/magic_tang/feat/test exp/chain/result/magic_big_lm_result20000_dir"
   ]
  },
  {
   "cell_type": "code",
   "execution_count": null,
   "metadata": {},
   "outputs": [],
   "source": []
  }
 ],
 "metadata": {
  "kernelspec": {
   "display_name": "Python 3",
   "language": "python",
   "name": "python3"
  },
  "language_info": {
   "codemirror_mode": {
    "name": "ipython",
    "version": 3
   },
   "file_extension": ".py",
   "mimetype": "text/x-python",
   "name": "python",
   "nbconvert_exporter": "python",
   "pygments_lexer": "ipython3",
   "version": "3.7.3"
  }
 },
 "nbformat": 4,
 "nbformat_minor": 2
}
