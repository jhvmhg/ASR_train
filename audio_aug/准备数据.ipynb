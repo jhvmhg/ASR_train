{
 "cells": [
  {
   "cell_type": "code",
   "execution_count": 4,
   "metadata": {},
   "outputs": [],
   "source": [
    "import os\n",
    "import sys\n",
    "from pathlib import Path\n",
    "import re\n",
    "import jieba\n",
    "sys.path.append(\"..\")\n",
    "from lib.io import parse_file_to_dict, write_dict_to_file, get_new_id, copy_file_if_exists"
   ]
  },
  {
   "cell_type": "markdown",
   "metadata": {},
   "source": [
    "### 列出旧16k数据"
   ]
  },
  {
   "cell_type": "code",
   "execution_count": 31,
   "metadata": {},
   "outputs": [],
   "source": [
    "old_16k_dir = \"/home1/meichaoyang/Dataset/16k\"\n",
    "old_16k_wav_list=list(Path(old_16k_dir).rglob(\"*.wav\"))\n",
    "old_16k_wav_list.sort(key=lambda Path: os.path.basename(os.path.splitext((str(Path)))[0]))"
   ]
  },
  {
   "cell_type": "code",
   "execution_count": 32,
   "metadata": {},
   "outputs": [],
   "source": [
    "old_16k_wav_scp = {}\n",
    "for path in old_16k_wav_list:\n",
    "    old_16k_wav_scp[os.path.basename(os.path.splitext((str(path)))[0])] = str(path)"
   ]
  },
  {
   "cell_type": "markdown",
   "metadata": {},
   "source": [
    "### 列出新16k数据"
   ]
  },
  {
   "cell_type": "code",
   "execution_count": 33,
   "metadata": {},
   "outputs": [],
   "source": [
    "new_16k_dir = \"/home1/meichaoyang/Dataset/16k_new\"\n",
    "new_16k_wav_list=list(Path(new_16k_dir).rglob(\"*.wav\"))\n",
    "new_16k_wav_list.sort(key=lambda Path: os.path.basename(os.path.splitext((str(Path)))[0]))"
   ]
  },
  {
   "cell_type": "code",
   "execution_count": 34,
   "metadata": {},
   "outputs": [],
   "source": [
    "new_16k_wav_scp = {}\n",
    "for path in new_16k_wav_list:\n",
    "    new_16k_wav_scp[os.path.basename(os.path.splitext((str(path)))[0])] = str(path)"
   ]
  },
  {
   "cell_type": "markdown",
   "metadata": {},
   "source": [
    "### 列出新增数据"
   ]
  },
  {
   "cell_type": "code",
   "execution_count": 35,
   "metadata": {},
   "outputs": [],
   "source": [
    "add_16k_wav_scp = {}\n",
    "for item in new_16k_wav_scp:\n",
    "    if item not in old_16k_wav_scp:\n",
    "        add_16k_wav_scp[item] = new_16k_wav_scp[item]"
   ]
  },
  {
   "cell_type": "code",
   "execution_count": 36,
   "metadata": {},
   "outputs": [],
   "source": [
    "add_16k_utt2spk = {}\n",
    "for item in add_16k_wav_scp:\n",
    "    add_16k_utt2spk[item] = item"
   ]
  },
  {
   "cell_type": "code",
   "execution_count": 21,
   "metadata": {},
   "outputs": [],
   "source": [
    "write_dict_to_file(add_16k_wav_scp,\"/home1/meichaoyang/Dataset/16k_add/wav.scp\")"
   ]
  },
  {
   "cell_type": "code",
   "execution_count": 27,
   "metadata": {},
   "outputs": [],
   "source": [
    "write_dict_to_file(add_16k_utt2spk,\"/home1/meichaoyang/Dataset/16k_add/spk2utt\")"
   ]
  },
  {
   "cell_type": "code",
   "execution_count": 29,
   "metadata": {},
   "outputs": [
    {
     "name": "stdout",
     "output_type": "stream",
     "text": [
      "2923599\n",
      "4423599\n"
     ]
    }
   ],
   "source": [
    "print(len(add_16k_wav_scp))\n",
    "print(len(new_16k_wav_scp))"
   ]
  },
  {
   "cell_type": "code",
   "execution_count": 37,
   "metadata": {},
   "outputs": [],
   "source": [
    "text_new=parse_file_to_dict(\"/home1/meichaoyang/Dataset/16k_new/usort-s.txt\")"
   ]
  },
  {
   "cell_type": "code",
   "execution_count": 38,
   "metadata": {},
   "outputs": [],
   "source": [
    "text_old=parse_file_to_dict(\"/home1/meichaoyang/Dataset/16k/usort-c.txt\")"
   ]
  },
  {
   "cell_type": "code",
   "execution_count": 41,
   "metadata": {},
   "outputs": [
    {
     "data": {
      "text/plain": [
       "3000000"
      ]
     },
     "execution_count": 41,
     "metadata": {},
     "output_type": "execute_result"
    }
   ],
   "source": [
    "len(text_new)"
   ]
  },
  {
   "cell_type": "code",
   "execution_count": 42,
   "metadata": {},
   "outputs": [
    {
     "data": {
      "text/plain": [
       "2991043"
      ]
     },
     "execution_count": 42,
     "metadata": {},
     "output_type": "execute_result"
    }
   ],
   "source": [
    "len(text_old)"
   ]
  },
  {
   "cell_type": "code",
   "execution_count": 48,
   "metadata": {},
   "outputs": [],
   "source": [
    "text_filter={}\n",
    "wav_scp_filter = {}\n",
    "for path in text_new:\n",
    "    utt = os.path.basename(os.path.splitext((str(path)))[0])\n",
    "    if utt in new_16k_wav_scp and utt not in old_16k_wav_scp:\n",
    "        text_filter[utt] = text_new[path]\n",
    "        wav_scp_filter[utt] = add_16k_wav_scp[utt]"
   ]
  },
  {
   "cell_type": "code",
   "execution_count": 51,
   "metadata": {},
   "outputs": [],
   "source": [
    "utt2spk = {}\n",
    "for i in wav_scp_filter:\n",
    "    utt2spk[i] = i"
   ]
  },
  {
   "cell_type": "code",
   "execution_count": 49,
   "metadata": {},
   "outputs": [
    {
     "data": {
      "text/plain": [
       "1423600"
      ]
     },
     "execution_count": 49,
     "metadata": {},
     "output_type": "execute_result"
    }
   ],
   "source": [
    "len(text_filter)"
   ]
  },
  {
   "cell_type": "code",
   "execution_count": 52,
   "metadata": {},
   "outputs": [],
   "source": [
    "write_dict_to_file(wav_scp_filter,\"/home1/meichaoyang/Dataset/16k_filter/wav.scp\")\n",
    "write_dict_to_file(text_filter,\"/home1/meichaoyang/Dataset/16k_filter/text\")\n",
    "write_dict_to_file(utt2spk,\"/home1/meichaoyang/Dataset/16k_filter/utt2spk\")\n",
    "write_dict_to_file(utt2spk,\"/home1/meichaoyang/Dataset/16k_filter/spk2utt\")"
   ]
  },
  {
   "cell_type": "code",
   "execution_count": 56,
   "metadata": {},
   "outputs": [],
   "source": [
    "volume_wav_scp = parse_file_to_dict(\"/home1/meichaoyang/Dataset/16k_filter_volume/wav.scp\",value_processor=lambda x: \"\".join(x))"
   ]
  },
  {
   "cell_type": "code",
   "execution_count": null,
   "metadata": {},
   "outputs": [],
   "source": [
    "volume_wav_scp"
   ]
  },
  {
   "cell_type": "code",
   "execution_count": 58,
   "metadata": {},
   "outputs": [],
   "source": [
    "volume_utt2spk = {}\n",
    "for i in volume_wav_scp:\n",
    "    volume_utt2spk[i] = i"
   ]
  },
  {
   "cell_type": "code",
   "execution_count": 61,
   "metadata": {},
   "outputs": [],
   "source": [
    "write_dict_to_file(volume_utt2spk,\"/home1/meichaoyang/Dataset/16k_filter_volume/spk2utt\")"
   ]
  },
  {
   "cell_type": "code",
   "execution_count": 63,
   "metadata": {},
   "outputs": [
    {
     "data": {
      "text/plain": [
       "'AUDIO01100000000000000001'"
      ]
     },
     "execution_count": 63,
     "metadata": {},
     "output_type": "execute_result"
    }
   ],
   "source": [
    "'volume-AUDIO01100000000000000001'[7:]"
   ]
  },
  {
   "cell_type": "code",
   "execution_count": 64,
   "metadata": {},
   "outputs": [],
   "source": [
    "volume_text = {}\n",
    "for i in volume_wav_scp:\n",
    "    volume_text[i] = text_filter[i[7:]]"
   ]
  },
  {
   "cell_type": "code",
   "execution_count": null,
   "metadata": {},
   "outputs": [],
   "source": [
    "volume_text"
   ]
  },
  {
   "cell_type": "code",
   "execution_count": 66,
   "metadata": {},
   "outputs": [],
   "source": [
    "write_dict_to_file(volume_text,\"/home1/meichaoyang/Dataset/16k_filter_volume/text\")"
   ]
  },
  {
   "cell_type": "code",
   "execution_count": null,
   "metadata": {},
   "outputs": [],
   "source": []
  },
  {
   "cell_type": "code",
   "execution_count": 15,
   "metadata": {},
   "outputs": [],
   "source": [
    "old_16k_dir = \"/home1/meichaoyang/dataset/16k_old/data_noise\"\n",
    "old_16k_wav_list=list(Path(old_16k_dir).rglob(\"*.wav\"))\n",
    "old_16k_wav_list.sort(key=lambda Path: os.path.basename(os.path.splitext((str(Path)))[0]))"
   ]
  },
  {
   "cell_type": "code",
   "execution_count": 16,
   "metadata": {},
   "outputs": [
    {
     "data": {
      "text/plain": [
       "590343"
      ]
     },
     "execution_count": 16,
     "metadata": {},
     "output_type": "execute_result"
    }
   ],
   "source": [
    "len(old_16k_wav_list)"
   ]
  },
  {
   "cell_type": "code",
   "execution_count": 24,
   "metadata": {},
   "outputs": [
    {
     "data": {
      "text/plain": [
       "12307.3125"
      ]
     },
     "execution_count": 24,
     "metadata": {},
     "output_type": "execute_result"
    }
   ],
   "source": [
    "590751/48"
   ]
  },
  {
   "cell_type": "code",
   "execution_count": 18,
   "metadata": {},
   "outputs": [
    {
     "data": {
      "text/plain": [
       "590751"
      ]
     },
     "execution_count": 18,
     "metadata": {},
     "output_type": "execute_result"
    }
   ],
   "source": [
    "#0\n",
    "old_16k_dir = \"/home1/meichaoyang/dataset/16k_old/data_noise\"\n",
    "old_16k_wav_list=list(Path(old_16k_dir).rglob(\"*.wav\"))\n",
    "old_16k_wav_list.sort(key=lambda Path: os.path.basename(os.path.splitext((str(Path)))[0]))\n",
    "len(old_16k_wav_list)"
   ]
  },
  {
   "cell_type": "code",
   "execution_count": 19,
   "metadata": {},
   "outputs": [
    {
     "data": {
      "text/plain": [
       "591087"
      ]
     },
     "execution_count": 19,
     "metadata": {},
     "output_type": "execute_result"
    }
   ],
   "source": [
    "#1\n",
    "old_16k_dir = \"/home1/meichaoyang/dataset/16k_old/data_noise\"\n",
    "old_16k_wav_list=list(Path(old_16k_dir).rglob(\"*.wav\"))\n",
    "old_16k_wav_list.sort(key=lambda Path: os.path.basename(os.path.splitext((str(Path)))[0]))\n",
    "len(old_16k_wav_list)"
   ]
  },
  {
   "cell_type": "code",
   "execution_count": 20,
   "metadata": {},
   "outputs": [
    {
     "data": {
      "text/plain": [
       "591360"
      ]
     },
     "execution_count": 20,
     "metadata": {},
     "output_type": "execute_result"
    }
   ],
   "source": [
    "#2\n",
    "old_16k_dir = \"/home1/meichaoyang/dataset/16k_old/data_noise\"\n",
    "old_16k_wav_list=list(Path(old_16k_dir).rglob(\"*.wav\"))\n",
    "old_16k_wav_list.sort(key=lambda Path: os.path.basename(os.path.splitext((str(Path)))[0]))\n",
    "len(old_16k_wav_list)"
   ]
  },
  {
   "cell_type": "code",
   "execution_count": 21,
   "metadata": {},
   "outputs": [
    {
     "data": {
      "text/plain": [
       "591875"
      ]
     },
     "execution_count": 21,
     "metadata": {},
     "output_type": "execute_result"
    }
   ],
   "source": [
    "#4\n",
    "old_16k_dir = \"/home1/meichaoyang/dataset/16k_old/data_noise\"\n",
    "old_16k_wav_list=list(Path(old_16k_dir).rglob(\"*.wav\"))\n",
    "old_16k_wav_list.sort(key=lambda Path: os.path.basename(os.path.splitext((str(Path)))[0]))\n",
    "len(old_16k_wav_list)"
   ]
  },
  {
   "cell_type": "code",
   "execution_count": 40,
   "metadata": {},
   "outputs": [
    {
     "data": {
      "text/plain": [
       "25.384615384615387"
      ]
     },
     "execution_count": 40,
     "metadata": {},
     "output_type": "execute_result"
    }
   ],
   "source": [
    "1/(13/110/3)"
   ]
  },
  {
   "cell_type": "code",
   "execution_count": 6,
   "metadata": {},
   "outputs": [],
   "source": [
    "old_16k_wav_scp = {}\n",
    "for path in old_16k_wav_list:\n",
    "    old_16k_wav_scp[os.path.basename(os.path.splitext((str(path)))[0])] = str(path)"
   ]
  },
  {
   "cell_type": "code",
   "execution_count": 8,
   "metadata": {},
   "outputs": [],
   "source": [
    "write_dict_to_file(old_16k_wav_scp,\"/home1/meichaoyang/dataset/16k_old/data_reverb/wav.scp\")"
   ]
  },
  {
   "cell_type": "code",
   "execution_count": 12,
   "metadata": {},
   "outputs": [
    {
     "data": {
      "text/plain": [
       "2384349"
      ]
     },
     "execution_count": 12,
     "metadata": {},
     "output_type": "execute_result"
    }
   ],
   "source": [
    "len(old_16k_wav_scp)"
   ]
  },
  {
   "cell_type": "code",
   "execution_count": null,
   "metadata": {},
   "outputs": [],
   "source": []
  }
 ],
 "metadata": {
  "kernelspec": {
   "display_name": "Python 3",
   "language": "python",
   "name": "python3"
  },
  "language_info": {
   "codemirror_mode": {
    "name": "ipython",
    "version": 3
   },
   "file_extension": ".py",
   "mimetype": "text/x-python",
   "name": "python",
   "nbconvert_exporter": "python",
   "pygments_lexer": "ipython3",
   "version": "3.7.0"
  }
 },
 "nbformat": 4,
 "nbformat_minor": 2
}
