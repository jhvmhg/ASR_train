{
 "cells": [
  {
   "cell_type": "code",
   "execution_count": 1,
   "metadata": {},
   "outputs": [],
   "source": [
    "\n",
    "import sys\n",
    "import re\n",
    "import jieba\n",
    "\n"
   ]
  },
  {
   "cell_type": "code",
   "execution_count": null,
   "metadata": {},
   "outputs": [],
   "source": [
    "#!python seg_word/segmentword.py seg.dict corpus.txt corpus.seg oov_file\n",
    "#sed 's/$/\\ 1/' seg.dict > seg_lm.dict\n",
    "\n",
    "seg_dict=\"seg_lm.dict\"\n",
    "orig_file=\"lm/test_lm.txt\"\n",
    "seg_file=\"lm/test_lm.seg\"\n",
    "\n",
    "jieba.set_dictionary(seg_dict)\n",
    "with open(seg_file, \"w\") as f:\n",
    "    for line in open(orig_file):\n",
    "        line = line.strip()\n",
    "        words = jieba.cut(line, HMM=False) # turn off new word discovery (HMM-based)\n",
    "        new_line = \" \".join(words)\n",
    "        f.write(new_line+\"\\n\")\n",
    "\n",
    "\n"
   ]
  },
  {
   "cell_type": "code",
   "execution_count": null,
   "metadata": {},
   "outputs": [],
   "source": [
    "#!sed 's/[^\\s]*\\s//' corpus.seg > corpus_lm.txt\n",
    "ngram-count -sort -text data/lm.txt -order 3 -unk -map-unk \"<UNK>\" -interpolate -lm corpus.lm -write corpus.count\n",
    "arpa2fst --disambig-symbol=#0 \\\n",
    "             --read-symbol-table=words.txt corpus.lm G.fst\n",
    "    \n",
    "fstdraw --isymbols=words.txt --osymbols=words.txt G.fst G1.dot"
   ]
  }
 ],
 "metadata": {
  "kernelspec": {
   "display_name": "Python 3",
   "language": "python",
   "name": "python3"
  },
  "language_info": {
   "codemirror_mode": {
    "name": "ipython",
    "version": 3
   },
   "file_extension": ".py",
   "mimetype": "text/x-python",
   "name": "python",
   "nbconvert_exporter": "python",
   "pygments_lexer": "ipython3",
   "version": "3.7.7"
  }
 },
 "nbformat": 4,
 "nbformat_minor": 4
}
